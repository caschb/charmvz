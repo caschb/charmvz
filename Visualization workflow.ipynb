{
 "cells": [
  {
   "cell_type": "markdown",
   "id": "f00b5b53-7114-4ff3-99f9-d36f9935d885",
   "metadata": {},
   "source": [
    "# Data visualization\n",
    "\n",
    "In this notebook, we create sample visualizations of our data to show examples of the usage of data science tools to performance analysis in HPC."
   ]
  },
  {
   "cell_type": "markdown",
   "id": "fdbcc157-6ff9-4f56-ad62-131b8b1ed8c6",
   "metadata": {},
   "source": [
    "## Import packages\n",
    "\n",
    "Most of our data wrangling is done with `polars`  \n",
    "We use `matplotlib` to create our plots."
   ]
  },
  {
   "cell_type": "code",
   "execution_count": null,
   "id": "168761a6-445e-4efc-8f46-51975f2be3a4",
   "metadata": {},
   "outputs": [],
   "source": [
    "import polars as pl\n",
    "import matplotlib as mlp\n",
    "import matplotlib.pyplot as plt\n",
    "import matplotlib.patches as patches\n",
    "from matplotlib.collections import PatchCollection\n",
    "import seaborn as sns"
   ]
  },
  {
   "cell_type": "markdown",
   "id": "6cf1f094-ee47-4a5c-b214-80fe276dbaca",
   "metadata": {},
   "source": [
    "We define a custom color map to be used in some figures"
   ]
  },
  {
   "cell_type": "code",
   "execution_count": null,
   "id": "c8f95c13-4d3b-4bd6-b492-b6a7159979b5",
   "metadata": {},
   "outputs": [],
   "source": [
    "from matplotlib.colors import LinearSegmentedColormap\n",
    "custom_cmap = LinearSegmentedColormap.from_list(\"my_cmap\", [\"#ffffff\", \"#ff0000\"])"
   ]
  },
  {
   "cell_type": "markdown",
   "id": "7f59c8d2-7cbd-4a55-85fd-01123595ceda",
   "metadata": {},
   "source": [
    "## Data reading\n",
    "\n",
    "We read our data and clean up the data set"
   ]
  },
  {
   "cell_type": "code",
   "execution_count": null,
   "id": "a31cae33-4a4c-4989-a888-3f8c03abd341",
   "metadata": {},
   "outputs": [],
   "source": [
    "# df = pl.read_parquet(\"output_80_greedylb_196761.pq\", columns=[\"Parent\", \"Start\", \"End\", \"Duration\", \"Value\"])\n",
    "df = pl.read_parquet(\"output_196946.pq\", columns=[\"Parent\", \"Start\", \"End\", \"Duration\", \"Value\"])\n",
    "df = df.drop_nulls()\n",
    "for col in df.iter_columns():\n",
    "    col = col.str.strip_chars()\n",
    "    if col.name == \"Parent\":\n",
    "        col = col.str.replace(r\"^pe\", \"\").cast(pl.Int32)\n",
    "    elif col.name != \"Value\":\n",
    "        col = col.cast(pl.Float32)\n",
    "    df = df.with_columns(col)\n",
    "df = df.rename({\"Value\": \"Chare\", \"Parent\": \"Processing Element\"})\n",
    "df = df.filter(pl.col.Duration > 0.0)"
   ]
  },
  {
   "cell_type": "markdown",
   "id": "98fdc36c-b185-45ad-a7f5-5670f5cda07f",
   "metadata": {},
   "source": [
    "## Chare frequency chart\n",
    "In this section we show a chart of the frequency of chares in this execution of the simulation."
   ]
  },
  {
   "cell_type": "code",
   "execution_count": null,
   "id": "0d0e2be7-e9bc-4e64-898c-2cce0ab1f146",
   "metadata": {},
   "outputs": [],
   "source": [
    "def create_frequency_plot(dataframe: pl.DataFrame, filename=\"freq_plot.png\"):\n",
    "    frequency_df = dataframe.group_by(\"Chare\").agg(pl.len()).sort(by=\"len\")\n",
    "    fig, ax = plt.subplots()\n",
    "    ax.barh(y=frequency_df[\"Chare\"], width=frequency_df[\"len\"])\n",
    "    ax.set_ylabel(\"Chare\")\n",
    "    ax.set_xlabel(\"Frequency\")\n",
    "    fig.savefig(filename)"
   ]
  },
  {
   "cell_type": "code",
   "execution_count": null,
   "id": "531fc545-4a8d-42cd-8bfe-7c67439db59c",
   "metadata": {},
   "outputs": [],
   "source": [
    "create_frequency_plot(df)"
   ]
  },
  {
   "cell_type": "markdown",
   "id": "5c69b753-0cee-4195-9633-17ec1f151c16",
   "metadata": {},
   "source": [
    "## Duration of each chare across all Processing Elements"
   ]
  },
  {
   "cell_type": "code",
   "execution_count": null,
   "id": "105061c3-f91c-453e-8dd9-09b9d39aa12c",
   "metadata": {},
   "outputs": [],
   "source": [
    "def create_total_duration_plot(dataframe: pl.DataFrame, filename=\"duration_plot.png\"):\n",
    "    durations_df = dataframe.group_by(\"Chare\").agg(pl.sum(\"Duration\")).sort(by=\"Duration\")\n",
    "    fig, ax = plt.subplots()\n",
    "    ax.barh(y=durations_df[\"Chare\"], width=durations_df[\"Duration\"])\n",
    "    ax.set_ylabel(\"Chare\")\n",
    "    ax.set_xlabel(\"Duration (ms)\")\n",
    "    fig.savefig(filename)"
   ]
  },
  {
   "cell_type": "code",
   "execution_count": null,
   "id": "f87d7dd6-e633-4d52-acb5-995cdc5770ec",
   "metadata": {},
   "outputs": [],
   "source": [
    "create_total_duration_plot(df)"
   ]
  },
  {
   "cell_type": "markdown",
   "id": "b7663420-b50a-477c-a0f4-9ab6377a158a",
   "metadata": {},
   "source": [
    "## Chare activity per Processing Element heatmap"
   ]
  },
  {
   "cell_type": "code",
   "execution_count": null,
   "id": "42cea5cd-5947-41aa-a8b5-30a9ffb5d800",
   "metadata": {},
   "outputs": [],
   "source": [
    "def create_chare_activity_per_pe_heatmap(dataframe: pl.DataFrame, num_nodes=4, pes_per_node=20, filename=\"activity_per_pe_hm.png\"):\n",
    "    agg_pe_chare_df = df.group_by([\"Processing Element\", \"Chare\"]).\\\n",
    "    agg(pl.sum(\"Duration\") * 0.001).\\\n",
    "        sort([\"Processing Element\", \"Duration\"])\n",
    "    heatmap_pe_chare_df = agg_pe_chare_df.pivot(index=\"Processing Element\", on=\"Chare\", values=\"Duration\")\n",
    "    heatmap_pe_chare_df = heatmap_pe_chare_df.drop(\"Processing Element\")\n",
    "    fig = plt.figure(figsize=(12, 8))\n",
    "    ax = sns.heatmap(\n",
    "        heatmap_pe_chare_df,\n",
    "        cmap=custom_cmap,\n",
    "        # cmap=custom_cmap,  # or \"magma\", \"coolwarm\", etc.\n",
    "        cbar_kws={'label': 'Duration'},\n",
    "        linecolor='none',\n",
    "        xticklabels=heatmap_pe_chare_df.columns\n",
    "    )\n",
    "    total_pes = num_nodes * pes_per_node\n",
    "    for i in range(pes_per_node, total_pes, pes_per_node):\n",
    "        ax.axhline(i, color='blue', linestyle='--', linewidth=2)\n",
    "\n",
    "    ax.set_title(\"Processing Element Activity Heatmap\")\n",
    "    ax.set_xlabel(\"Chare\")\n",
    "    ax.set_ylabel(\"Processing Element\")\n",
    "    fig.savefig(filename)"
   ]
  },
  {
   "cell_type": "code",
   "execution_count": null,
   "id": "f244111b-60ba-43e0-a417-bcd078bb3163",
   "metadata": {},
   "outputs": [],
   "source": [
    "create_chare_activity_per_pe_heatmap(df)"
   ]
  },
  {
   "cell_type": "markdown",
   "id": "de36859b-633b-4fb2-a6ee-9b9d810fde9f",
   "metadata": {},
   "source": [
    "## Processing Element Activity across time"
   ]
  },
  {
   "cell_type": "code",
   "execution_count": null,
   "id": "1302d5ef-5c90-4f1b-b0e5-124a3bb35994",
   "metadata": {},
   "outputs": [],
   "source": [
    "def bin_dataframe(dataframe: pl.DataFrame, bin_size = 1_000_000.0):\n",
    "    condition = pl.when(pl.col(\"Start\") // bin_size != pl.col(\"End\") // bin_size)\n",
    "    binned_df = dataframe.with_columns([\n",
    "        (pl.col(\"Start\") // bin_size).cast(pl.Int32).alias(\"Time Bin Start\"),\n",
    "        (pl.col(\"End\") // bin_size).cast(pl.Int32).alias(\"Time Bin End\"),\n",
    "        condition.then(pl.col.Duration - (pl.col.End % bin_size)).otherwise(pl.col(\"Duration\")).alias(\"Start Bin Duration\"), # If the bins are different, then it means that there is spill over and we must divide the duration across the bins\n",
    "        condition.then(pl.col.End % bin_size).otherwise(-1).cast(pl.Int32).alias(\"End Bin Duration\"), # We set the \"End Bin Duration\" as -1 if there's no spill over so we can easily drop it later\n",
    "    ]).drop(pl.col(\"Start\"), pl.col(\"End\"), pl.col(\"Duration\"))\n",
    "    binned_df = binned_df.\\\n",
    "        unpivot(on=[\"Start Bin Duration\", \"End Bin Duration\"], # We melt the dataframe and create a row for each Bin Duration Type\n",
    "                variable_name=\"Bin Duration Type\", \n",
    "                value_name=\"Bin Duration\",\n",
    "                index=[\"Processing Element\", \"Chare\", \"Time Bin Start\", \"Time Bin End\"])\n",
    "    binned_df = binned_df.remove( # We remove the entries where there was no spillover\n",
    "        (pl.col(\"Bin Duration\") == -1) &\n",
    "        (pl.col(\"Bin Duration Type\") == \"End Bin Duration\")\n",
    "    )\n",
    "    binned_df = binned_df.select([\n",
    "        pl.col(\"Processing Element\"),\n",
    "        pl.col(\"Chare\"),\n",
    "        pl.when(\n",
    "            (pl.col(\"Time Bin Start\") != pl.col(\"Time Bin End\")) &\n",
    "            (pl.col(\"Bin Duration Type\") == \"Start Bin Duration\")\n",
    "        ).then(-1).otherwise(pl.col(\"Time Bin Start\")).alias(\"Time Bin Start\"), # If the time bins are different, but this is a start bin then this is a duplicate and we mark it for deletion\n",
    "        pl.when(\n",
    "            (pl.col(\"Time Bin Start\") == pl.col(\"Time Bin End\")) &\n",
    "            (pl.col(\"Bin Duration Type\") == \"End Bin Duration\")\n",
    "        ).then(-1).otherwise(pl.col(\"Time Bin End\")).alias(\"Time Bin End\"), # If the time bins are the same, but this is an end bin then this is a duplicate and we mark it for deletion\n",
    "        pl.col(\"Bin Duration Type\"),\n",
    "        pl.col(\"Bin Duration\")\n",
    "    ])\n",
    "    binned_df = binned_df.remove( # We delete the marked rows\n",
    "        (pl.col(\"Time Bin Start\") == -1) |\n",
    "        (pl.col(\"Time Bin End\") == -1)\n",
    "    )\n",
    "    binned_df = binned_df.select([ # Finall we take either the Start or End time bin depending on which one the entry actually belongs to\n",
    "        (pl.col(\"Processing Element\")),\n",
    "        (pl.col(\"Chare\")),\n",
    "        pl.when(\n",
    "            (pl.col(\"Bin Duration Type\") == \"Start Bin Duration\")\n",
    "        ).then(pl.col(\"Time Bin Start\")).otherwise(pl.col(\"Time Bin End\")).alias(\"Time Bin\"),\n",
    "        (pl.col(\"Bin Duration\").alias(\"Duration\"))\n",
    "        ])\n",
    "    return binned_df"
   ]
  },
  {
   "cell_type": "code",
   "execution_count": null,
   "id": "4b5a1cbc-a36f-414a-a9a2-d74d20d50343",
   "metadata": {},
   "outputs": [],
   "source": [
    "def create_timeline_plot(dataframe: pl.DataFrame, num_nodes=4, pes_per_node=20, filename=\"timepline.png\"):\n",
    "    binned_df = bin_dataframe(dataframe, bin_size = 50_000.0)\n",
    "    agg_df = binned_df.group_by([\"Processing Element\", \"Time Bin\"]).\\\n",
    "        agg(pl.sum(\"Duration\") * 0.001).\\\n",
    "        sort([\"Processing Element\", \"Time Bin\"])\n",
    "    heatmap_df = agg_df.pivot(index=\"Processing Element\", on=\"Time Bin\", values=\"Duration\")\n",
    "    fig = plt.figure(figsize=(16, 8))\n",
    "    ax = sns.heatmap(\n",
    "        heatmap_df,\n",
    "        cmap=custom_cmap,\n",
    "        # cmap=\"berlin\",\n",
    "        cbar_kws={'label': 'Activity in bin'},\n",
    "        linecolor='none'\n",
    "    )\n",
    "    total_pes = num_nodes * pes_per_node\n",
    "    for i in range(pes_per_node, total_pes, pes_per_node):\n",
    "        ax.axhline(i, color='blue', linestyle='--', linewidth=2)\n",
    "\n",
    "    ax.set_title(\"Processing Element Activity Heatmap\")\n",
    "    ax.set_xlabel(\"Time Bin\")\n",
    "    ax.set_ylabel(\"Processing Element\")\n",
    "    fig.savefig(filename)"
   ]
  },
  {
   "cell_type": "code",
   "execution_count": null,
   "id": "3eaafd6f-db4d-4aea-a44b-706dd130da0d",
   "metadata": {},
   "outputs": [],
   "source": [
    "create_timeline_plot(df)"
   ]
  },
  {
   "cell_type": "code",
   "execution_count": null,
   "id": "5bfbf161-5419-4362-8b4d-2b6699512756",
   "metadata": {},
   "outputs": [],
   "source": [
    "fig, ax = plt.subplots()"
   ]
  },
  {
   "cell_type": "code",
   "execution_count": null,
   "id": "0fab3a9a-41b1-42ca-b350-5fea5f24df98",
   "metadata": {},
   "outputs": [],
   "source": [
    "df.head()"
   ]
  },
  {
   "cell_type": "code",
   "execution_count": null,
   "id": "09d7b8d1-9d8e-426d-ad5b-36e27585a33e",
   "metadata": {},
   "outputs": [],
   "source": [
    "pe = df[\"Processing Element\"].to_numpy()\n",
    "start = df[\"Start\"].to_numpy()\n",
    "end = df[\"End\"].to_numpy()\n",
    "durations = df[\"Duration\"].to_numpy()"
   ]
  },
  {
   "cell_type": "code",
   "execution_count": null,
   "id": "8d31a7bf-fc3f-4b23-a00a-cc887d607a60",
   "metadata": {},
   "outputs": [],
   "source": [
    "rects = [\n",
    "    patches.Rectangle((start[i], pe[i]), durations[i], 0.9)\n",
    "    for i in range(len(start))\n",
    "]"
   ]
  },
  {
   "cell_type": "code",
   "execution_count": null,
   "id": "d97de2cc-c1e4-4b71-b091-ce70c7dbf3c0",
   "metadata": {},
   "outputs": [],
   "source": [
    "collection = PatchCollection(rects, facecolor=colors, edgecolor='black')"
   ]
  },
  {
   "cell_type": "code",
   "execution_count": null,
   "id": "f1b7acfa-67bf-4113-a80e-ed63baef2eed",
   "metadata": {
    "editable": true,
    "slideshow": {
     "slide_type": ""
    },
    "tags": []
   },
   "outputs": [],
   "source": []
  },
  {
   "cell_type": "markdown",
   "id": "bfd94e3a-96d3-4545-8e2c-52d839de58ef",
   "metadata": {},
   "source": [
    "## Imbalance Heatmap"
   ]
  },
  {
   "cell_type": "code",
   "execution_count": null,
   "id": "14edf967-f5b1-4f9e-99bb-5def09b4bb85",
   "metadata": {},
   "outputs": [],
   "source": []
  }
 ],
 "metadata": {
  "kernelspec": {
   "display_name": "charmvz",
   "language": "python",
   "name": "charmvz"
  },
  "language_info": {
   "codemirror_mode": {
    "name": "ipython",
    "version": 3
   },
   "file_extension": ".py",
   "mimetype": "text/x-python",
   "name": "python",
   "nbconvert_exporter": "python",
   "pygments_lexer": "ipython3",
   "version": "3.13.3"
  }
 },
 "nbformat": 4,
 "nbformat_minor": 5
}
